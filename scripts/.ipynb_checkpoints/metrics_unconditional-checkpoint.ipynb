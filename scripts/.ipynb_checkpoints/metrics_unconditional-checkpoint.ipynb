{
 "cells": [
  {
   "cell_type": "markdown",
   "id": "458bd279-18d8-4595-96a3-17f536a3cd12",
   "metadata": {},
   "source": [
    "## Synthetic Time Series Evaluation Metrics\n",
    "\n",
    "<br> **Aim:**\n",
    "<br> evaluate synthetic data generated for multivariate time-series data\n",
    "<br> metrics should quantify diversity, fidelity, privacy and utility \n",
    "<br>\n",
    "<br> **Data input:**\n",
    "<br> **unconditional** generation\n",
    "<br>\n",
    "<br> **Output:**\n",
    "<br> metric scores"
   ]
  },
  {
   "cell_type": "code",
   "execution_count": 1,
   "id": "6661cbb7-95ee-4667-aff3-ccef26123ebd",
   "metadata": {},
   "outputs": [
    {
     "name": "stderr",
     "output_type": "stream",
     "text": [
      "C:\\Users\\USER\\anaconda3\\envs\\dsi24\\lib\\site-packages\\numpy\\_distributor_init.py:30: UserWarning: loaded more than 1 DLL from .libs:\n",
      "C:\\Users\\USER\\anaconda3\\envs\\dsi24\\lib\\site-packages\\numpy\\.libs\\libopenblas.WCDJNK7YVMPZQ2ME2ZZHJJRJ3JIKNDB7.gfortran-win_amd64.dll\n",
      "C:\\Users\\USER\\anaconda3\\envs\\dsi24\\lib\\site-packages\\numpy\\.libs\\libopenblas64__v0.3.21-gcc_10_3_0.dll\n",
      "  warnings.warn(\"loaded more than 1 DLL from .libs:\"\n"
     ]
    }
   ],
   "source": [
    "import os\n",
    "import sys\n",
    "import numpy as np\n",
    "import pandas as pd\n",
    "import matplotlib.pyplot as plt\n",
    "import seaborn as sns\n",
    "import datetime\n",
    "\n",
    "import torch\n",
    "import torch.nn as nn\n",
    "import torch.nn.functional as F\n",
    "from scipy.linalg import sqrtm\n",
    "from sklearn.preprocessing import StandardScaler, MinMaxScaler\n",
    "from scipy.stats import norm\n",
    "from dtaidistance.dtw_ndim import distance as multi_dtw_distance\n",
    "from dtaidistance import dtw\n",
    "from sklearn.neighbors import NearestNeighbors\n",
    "from sklearn.metrics import roc_auc_score\n",
    "from sklearn.metrics.pairwise import rbf_kernel\n"
   ]
  },
  {
   "cell_type": "code",
   "execution_count": 2,
   "id": "ed561010-5351-4411-b897-d9ddb610f579",
   "metadata": {},
   "outputs": [],
   "source": [
    "import warnings\n",
    "warnings.filterwarnings(\"ignore\")\n",
    "\n",
    "pd.options.display.max_rows = None\n",
    "pd.options.display.max_columns = None\n",
    "pd.options.display.max_colwidth = None\n",
    "pd.options.display.float_format = '{:.2f}'.format"
   ]
  },
  {
   "cell_type": "code",
   "execution_count": 3,
   "id": "9e39c4de-1e67-47c6-83fb-b440059e0035",
   "metadata": {},
   "outputs": [
    {
     "name": "stdout",
     "output_type": "stream",
     "text": [
      "Python version: 3.8.8 (default, Apr 13 2021, 15:08:03) [MSC v.1916 64 bit (AMD64)]\n"
     ]
    }
   ],
   "source": [
    "# using py3.8 \n",
    "print(\"Python version:\", sys.version)"
   ]
  },
  {
   "cell_type": "code",
   "execution_count": 4,
   "id": "f0abedec-ce7b-45df-b626-234ac408b6b4",
   "metadata": {},
   "outputs": [
    {
     "data": {
      "text/plain": [
       "'2025-07-31'"
      ]
     },
     "execution_count": 4,
     "metadata": {},
     "output_type": "execute_result"
    }
   ],
   "source": [
    "today = datetime.datetime.now().strftime(\"%Y-%m-%d\")\n",
    "today"
   ]
  },
  {
   "cell_type": "markdown",
   "id": "38070e1c-64e7-44a3-86b1-69d7849e64fd",
   "metadata": {},
   "source": [
    "**import data**"
   ]
  },
  {
   "cell_type": "markdown",
   "id": "b8770519-8ea1-4f89-a782-64f1797719bc",
   "metadata": {},
   "source": [
    "**original data**"
   ]
  },
  {
   "cell_type": "code",
   "execution_count": 5,
   "id": "c8425f67-58d7-406e-adc9-57726d818449",
   "metadata": {},
   "outputs": [],
   "source": [
    "# # check single\n",
    "# data_dir = 'C:\\\\Users\\\\USER\\\\Documents\\\\task\\\\data\\\\TimeSeries\\\\unconditional_generation\\\\'\n",
    "# filetype = 'original'\n",
    "# filename = 'stkl.us.csv'\n",
    "\n",
    "# file_path = os.path.join(data_dir, filetype, filename)\n",
    "\n",
    "# real_df = pd.read_csv(file_path, index_col=None)"
   ]
  },
  {
   "cell_type": "code",
   "execution_count": 6,
   "id": "74f8be52-474a-42ee-bacf-add392c7fcb8",
   "metadata": {},
   "outputs": [],
   "source": [
    "# stack all original data\n",
    "data_dir = 'C:\\\\Users\\\\USER\\\\Documents\\\\task\\\\data\\\\TimeSeries\\\\unconditional_generation\\\\'\n",
    "real_dir = os.path.join(data_dir, 'original')\n",
    "\n",
    "real_dfs = []\n",
    "\n",
    "for file in os.listdir(real_dir):\n",
    "    if file.endswith('.csv'):\n",
    "        df = pd.read_csv(os.path.join(real_dir, file))\n",
    "        real_dfs.append(df)\n",
    "\n",
    "real_df = pd.concat(real_dfs, ignore_index=True)"
   ]
  },
  {
   "cell_type": "code",
   "execution_count": 7,
   "id": "e70ebd51-6aeb-4898-b8e8-8843ba34b177",
   "metadata": {},
   "outputs": [
    {
     "data": {
      "text/html": [
       "<div>\n",
       "<style scoped>\n",
       "    .dataframe tbody tr th:only-of-type {\n",
       "        vertical-align: middle;\n",
       "    }\n",
       "\n",
       "    .dataframe tbody tr th {\n",
       "        vertical-align: top;\n",
       "    }\n",
       "\n",
       "    .dataframe thead th {\n",
       "        text-align: right;\n",
       "    }\n",
       "</style>\n",
       "<table border=\"1\" class=\"dataframe\">\n",
       "  <thead>\n",
       "    <tr style=\"text-align: right;\">\n",
       "      <th></th>\n",
       "      <th>Open</th>\n",
       "      <th>High</th>\n",
       "      <th>Low</th>\n",
       "      <th>Close</th>\n",
       "      <th>Volume</th>\n",
       "      <th>OpenInt</th>\n",
       "    </tr>\n",
       "  </thead>\n",
       "  <tbody>\n",
       "    <tr>\n",
       "      <th>0</th>\n",
       "      <td>173.62</td>\n",
       "      <td>175.92</td>\n",
       "      <td>171.69</td>\n",
       "      <td>175.30</td>\n",
       "      <td>15071</td>\n",
       "      <td>0</td>\n",
       "    </tr>\n",
       "    <tr>\n",
       "      <th>1</th>\n",
       "      <td>175.37</td>\n",
       "      <td>177.04</td>\n",
       "      <td>173.27</td>\n",
       "      <td>177.04</td>\n",
       "      <td>4585</td>\n",
       "      <td>0</td>\n",
       "    </tr>\n",
       "    <tr>\n",
       "      <th>2</th>\n",
       "      <td>177.04</td>\n",
       "      <td>179.99</td>\n",
       "      <td>174.65</td>\n",
       "      <td>179.28</td>\n",
       "      <td>11737</td>\n",
       "      <td>0</td>\n",
       "    </tr>\n",
       "    <tr>\n",
       "      <th>3</th>\n",
       "      <td>180.19</td>\n",
       "      <td>180.19</td>\n",
       "      <td>176.62</td>\n",
       "      <td>177.95</td>\n",
       "      <td>5873</td>\n",
       "      <td>0</td>\n",
       "    </tr>\n",
       "    <tr>\n",
       "      <th>4</th>\n",
       "      <td>177.69</td>\n",
       "      <td>179.75</td>\n",
       "      <td>175.51</td>\n",
       "      <td>179.61</td>\n",
       "      <td>5726</td>\n",
       "      <td>0</td>\n",
       "    </tr>\n",
       "    <tr>\n",
       "      <th>5</th>\n",
       "      <td>179.75</td>\n",
       "      <td>179.75</td>\n",
       "      <td>177.34</td>\n",
       "      <td>178.72</td>\n",
       "      <td>6858</td>\n",
       "      <td>0</td>\n",
       "    </tr>\n",
       "    <tr>\n",
       "      <th>6</th>\n",
       "      <td>178.37</td>\n",
       "      <td>181.45</td>\n",
       "      <td>178.01</td>\n",
       "      <td>181.03</td>\n",
       "      <td>4982</td>\n",
       "      <td>0</td>\n",
       "    </tr>\n",
       "    <tr>\n",
       "      <th>7</th>\n",
       "      <td>181.45</td>\n",
       "      <td>181.45</td>\n",
       "      <td>179.42</td>\n",
       "      <td>180.06</td>\n",
       "      <td>13411</td>\n",
       "      <td>0</td>\n",
       "    </tr>\n",
       "    <tr>\n",
       "      <th>8</th>\n",
       "      <td>179.42</td>\n",
       "      <td>179.42</td>\n",
       "      <td>174.83</td>\n",
       "      <td>175.78</td>\n",
       "      <td>8077</td>\n",
       "      <td>0</td>\n",
       "    </tr>\n",
       "    <tr>\n",
       "      <th>9</th>\n",
       "      <td>175.64</td>\n",
       "      <td>177.61</td>\n",
       "      <td>175.30</td>\n",
       "      <td>177.34</td>\n",
       "      <td>7390</td>\n",
       "      <td>0</td>\n",
       "    </tr>\n",
       "  </tbody>\n",
       "</table>\n",
       "</div>"
      ],
      "text/plain": [
       "    Open   High    Low  Close  Volume  OpenInt\n",
       "0 173.62 175.92 171.69 175.30   15071        0\n",
       "1 175.37 177.04 173.27 177.04    4585        0\n",
       "2 177.04 179.99 174.65 179.28   11737        0\n",
       "3 180.19 180.19 176.62 177.95    5873        0\n",
       "4 177.69 179.75 175.51 179.61    5726        0\n",
       "5 179.75 179.75 177.34 178.72    6858        0\n",
       "6 178.37 181.45 178.01 181.03    4982        0\n",
       "7 181.45 181.45 179.42 180.06   13411        0\n",
       "8 179.42 179.42 174.83 175.78    8077        0\n",
       "9 175.64 177.61 175.30 177.34    7390        0"
      ]
     },
     "execution_count": 7,
     "metadata": {},
     "output_type": "execute_result"
    }
   ],
   "source": [
    "real_df.head(10)"
   ]
  },
  {
   "cell_type": "code",
   "execution_count": 8,
   "id": "55cdf49e-bd0c-48f2-9448-28ba383cfaf4",
   "metadata": {},
   "outputs": [
    {
     "name": "stdout",
     "output_type": "stream",
     "text": [
      "<class 'pandas.core.frame.DataFrame'>\n",
      "RangeIndex: 21500 entries, 0 to 21499\n",
      "Data columns (total 6 columns):\n",
      " #   Column   Non-Null Count  Dtype  \n",
      "---  ------   --------------  -----  \n",
      " 0   Open     21500 non-null  float64\n",
      " 1   High     21500 non-null  float64\n",
      " 2   Low      21500 non-null  float64\n",
      " 3   Close    21500 non-null  float64\n",
      " 4   Volume   21500 non-null  int64  \n",
      " 5   OpenInt  21500 non-null  int64  \n",
      "dtypes: float64(4), int64(2)\n",
      "memory usage: 1007.9 KB\n"
     ]
    }
   ],
   "source": [
    "real_df.info()"
   ]
  },
  {
   "cell_type": "code",
   "execution_count": 9,
   "id": "936ffc5d-11e6-4e76-8ec3-51a930d11cd1",
   "metadata": {},
   "outputs": [
    {
     "data": {
      "text/plain": [
       "Open       0\n",
       "High       0\n",
       "Low        0\n",
       "Close      0\n",
       "Volume     0\n",
       "OpenInt    0\n",
       "dtype: int64"
      ]
     },
     "execution_count": 9,
     "metadata": {},
     "output_type": "execute_result"
    }
   ],
   "source": [
    "real_df.isnull().sum()"
   ]
  },
  {
   "cell_type": "markdown",
   "id": "871dc785-e460-46d9-bb71-3d9afb020490",
   "metadata": {},
   "source": [
    "**synthetic data**"
   ]
  },
  {
   "cell_type": "code",
   "execution_count": 10,
   "id": "4e0dc14a-8164-4a6a-a8da-daa77e044421",
   "metadata": {},
   "outputs": [],
   "source": [
    "# # single\n",
    "# data_dir = 'C:\\\\Users\\\\USER\\\\Documents\\\\task\\\\data\\\\TimeSeries\\\\unconditional_generation\\\\'\n",
    "# filetype = 'tsv2//ts'\n",
    "# filename = '32.csv'\n",
    "\n",
    "# file_path = os.path.join(data_dir, filetype, filename)\n",
    "\n",
    "# synth_df = pd.read_csv(file_path, index_col=None)"
   ]
  },
  {
   "cell_type": "code",
   "execution_count": 11,
   "id": "eb0c039b-6c08-42e8-8674-d50d41ffaae5",
   "metadata": {},
   "outputs": [],
   "source": [
    "# stack all synthetic data\n",
    "data_dir = 'C:\\\\Users\\\\USER\\\\Documents\\\\task\\\\data\\\\TimeSeries\\\\unconditional_generation\\\\'\n",
    "synth_dir = os.path.join(data_dir, 'tsv2//ts')\n",
    "\n",
    "files = sorted(\n",
    "    [f for f in os.listdir(synth_dir) if f.endswith('.csv')],\n",
    "    key=lambda x: int(os.path.splitext(x)[0])  # extract numeric prefix\n",
    ")\n",
    "\n",
    "synth_dfs = []\n",
    "\n",
    "for file in files:\n",
    "    df = pd.read_csv(os.path.join(synth_dir, file))\n",
    "    synth_dfs.append(df)\n",
    "\n",
    "# Concatenate all in correct order\n",
    "synth_df = pd.concat(synth_dfs, ignore_index=True)"
   ]
  },
  {
   "cell_type": "code",
   "execution_count": 12,
   "id": "67a20ae2-0eeb-494b-b477-61474612a89e",
   "metadata": {},
   "outputs": [
    {
     "data": {
      "text/html": [
       "<div>\n",
       "<style scoped>\n",
       "    .dataframe tbody tr th:only-of-type {\n",
       "        vertical-align: middle;\n",
       "    }\n",
       "\n",
       "    .dataframe tbody tr th {\n",
       "        vertical-align: top;\n",
       "    }\n",
       "\n",
       "    .dataframe thead th {\n",
       "        text-align: right;\n",
       "    }\n",
       "</style>\n",
       "<table border=\"1\" class=\"dataframe\">\n",
       "  <thead>\n",
       "    <tr style=\"text-align: right;\">\n",
       "      <th></th>\n",
       "      <th>Open</th>\n",
       "      <th>High</th>\n",
       "      <th>Low</th>\n",
       "      <th>Close</th>\n",
       "      <th>Volume</th>\n",
       "      <th>OpenInt</th>\n",
       "    </tr>\n",
       "  </thead>\n",
       "  <tbody>\n",
       "    <tr>\n",
       "      <th>0</th>\n",
       "      <td>29.00</td>\n",
       "      <td>29.85</td>\n",
       "      <td>28.92</td>\n",
       "      <td>28.51</td>\n",
       "      <td>291075.35</td>\n",
       "      <td>0</td>\n",
       "    </tr>\n",
       "    <tr>\n",
       "      <th>1</th>\n",
       "      <td>28.73</td>\n",
       "      <td>29.96</td>\n",
       "      <td>29.37</td>\n",
       "      <td>28.53</td>\n",
       "      <td>284862.34</td>\n",
       "      <td>0</td>\n",
       "    </tr>\n",
       "    <tr>\n",
       "      <th>2</th>\n",
       "      <td>27.61</td>\n",
       "      <td>28.61</td>\n",
       "      <td>28.12</td>\n",
       "      <td>28.13</td>\n",
       "      <td>169222.28</td>\n",
       "      <td>0</td>\n",
       "    </tr>\n",
       "    <tr>\n",
       "      <th>3</th>\n",
       "      <td>28.23</td>\n",
       "      <td>28.66</td>\n",
       "      <td>28.67</td>\n",
       "      <td>28.61</td>\n",
       "      <td>282711.69</td>\n",
       "      <td>0</td>\n",
       "    </tr>\n",
       "    <tr>\n",
       "      <th>4</th>\n",
       "      <td>28.62</td>\n",
       "      <td>24.86</td>\n",
       "      <td>25.93</td>\n",
       "      <td>25.85</td>\n",
       "      <td>264100.09</td>\n",
       "      <td>0</td>\n",
       "    </tr>\n",
       "    <tr>\n",
       "      <th>5</th>\n",
       "      <td>27.28</td>\n",
       "      <td>28.31</td>\n",
       "      <td>27.97</td>\n",
       "      <td>29.55</td>\n",
       "      <td>301230.12</td>\n",
       "      <td>0</td>\n",
       "    </tr>\n",
       "    <tr>\n",
       "      <th>6</th>\n",
       "      <td>28.28</td>\n",
       "      <td>29.09</td>\n",
       "      <td>29.37</td>\n",
       "      <td>28.57</td>\n",
       "      <td>179264.18</td>\n",
       "      <td>0</td>\n",
       "    </tr>\n",
       "    <tr>\n",
       "      <th>7</th>\n",
       "      <td>27.74</td>\n",
       "      <td>28.60</td>\n",
       "      <td>27.91</td>\n",
       "      <td>28.95</td>\n",
       "      <td>273397.50</td>\n",
       "      <td>0</td>\n",
       "    </tr>\n",
       "    <tr>\n",
       "      <th>8</th>\n",
       "      <td>28.51</td>\n",
       "      <td>29.21</td>\n",
       "      <td>29.49</td>\n",
       "      <td>28.55</td>\n",
       "      <td>279687.71</td>\n",
       "      <td>0</td>\n",
       "    </tr>\n",
       "    <tr>\n",
       "      <th>9</th>\n",
       "      <td>27.23</td>\n",
       "      <td>27.93</td>\n",
       "      <td>28.37</td>\n",
       "      <td>29.07</td>\n",
       "      <td>296752.84</td>\n",
       "      <td>0</td>\n",
       "    </tr>\n",
       "  </tbody>\n",
       "</table>\n",
       "</div>"
      ],
      "text/plain": [
       "   Open  High   Low  Close    Volume  OpenInt\n",
       "0 29.00 29.85 28.92  28.51 291075.35        0\n",
       "1 28.73 29.96 29.37  28.53 284862.34        0\n",
       "2 27.61 28.61 28.12  28.13 169222.28        0\n",
       "3 28.23 28.66 28.67  28.61 282711.69        0\n",
       "4 28.62 24.86 25.93  25.85 264100.09        0\n",
       "5 27.28 28.31 27.97  29.55 301230.12        0\n",
       "6 28.28 29.09 29.37  28.57 179264.18        0\n",
       "7 27.74 28.60 27.91  28.95 273397.50        0\n",
       "8 28.51 29.21 29.49  28.55 279687.71        0\n",
       "9 27.23 27.93 28.37  29.07 296752.84        0"
      ]
     },
     "execution_count": 12,
     "metadata": {},
     "output_type": "execute_result"
    }
   ],
   "source": [
    "synth_df.head(10)"
   ]
  },
  {
   "cell_type": "code",
   "execution_count": 13,
   "id": "10989741-a81d-498c-ab34-c05da9cbbd24",
   "metadata": {},
   "outputs": [
    {
     "name": "stdout",
     "output_type": "stream",
     "text": [
      "<class 'pandas.core.frame.DataFrame'>\n",
      "RangeIndex: 11558 entries, 0 to 11557\n",
      "Data columns (total 6 columns):\n",
      " #   Column   Non-Null Count  Dtype  \n",
      "---  ------   --------------  -----  \n",
      " 0   Open     11558 non-null  float64\n",
      " 1   High     11558 non-null  float64\n",
      " 2   Low      11558 non-null  float64\n",
      " 3   Close    11558 non-null  float64\n",
      " 4   Volume   11558 non-null  float64\n",
      " 5   OpenInt  11558 non-null  int64  \n",
      "dtypes: float64(5), int64(1)\n",
      "memory usage: 541.9 KB\n"
     ]
    }
   ],
   "source": [
    "synth_df.info()"
   ]
  },
  {
   "cell_type": "code",
   "execution_count": 14,
   "id": "5ffe9a9f-ea3e-4ccc-91c3-13e854470125",
   "metadata": {},
   "outputs": [
    {
     "data": {
      "text/plain": [
       "Open       0\n",
       "High       0\n",
       "Low        0\n",
       "Close      0\n",
       "Volume     0\n",
       "OpenInt    0\n",
       "dtype: int64"
      ]
     },
     "execution_count": 14,
     "metadata": {},
     "output_type": "execute_result"
    }
   ],
   "source": [
    "synth_df.isnull().sum()"
   ]
  },
  {
   "cell_type": "code",
   "execution_count": 15,
   "id": "01011026-d8e6-439e-b290-272d15cc7a52",
   "metadata": {},
   "outputs": [
    {
     "name": "stdout",
     "output_type": "stream",
     "text": [
      "Columns match exactly (names and order).\n"
     ]
    }
   ],
   "source": [
    "# QC\n",
    "# ensure both have same columns\n",
    "if list(real_df.columns) == list(synth_df.columns):\n",
    "    print(\"Columns match exactly (names and order).\")\n",
    "else:\n",
    "    print(\"Columns do not match.\")\n",
    "    print(\"original columns:\", real_df.columns.tolist())\n",
    "    print(\"synthetic columns:\", synth_df.columns.tolist())"
   ]
  },
  {
   "cell_type": "markdown",
   "id": "6b136bd0-957b-46b6-b537-3e6682998a2e",
   "metadata": {},
   "source": [
    "NOTE:\n",
    "- stock data\n",
    "- do not what 0,1,2,3 ... means\n",
    "- all numerical\n",
    "- stack all data together\n",
    "- treat data as a general pool of stock movements, rather than sequence of one stock\n",
    "- if aim is to learn general temporal patterns of stock movement"
   ]
  },
  {
   "cell_type": "markdown",
   "id": "809b3a08-799e-4db3-bfbd-9b7fea9ff028",
   "metadata": {},
   "source": [
    "### Fidelity metric\n",
    "Fidelity examines the similarity between real and synthetic data (Ang et al., 2023)\n",
    "<br> Start with C-FID, given robustness issues with Discriminative Score DS and Predictive Score PS. Its prowess in gauging fidelity based on representations bestows it with the capability to augment subsequent tasks."
   ]
  },
  {
   "cell_type": "markdown",
   "id": "7e630e51-f2f5-45c5-88c5-48353cf2df4a",
   "metadata": {},
   "source": [
    "#### Model-based measure - Contextual-FID (C-FID) \n",
    "**Model-based measure**\n",
    "<br> An adaptation of the Fréchet Inception Distance (FID) designed specifically for evaluating the quality of synthetic time series data. \n",
    "<br> To quantify how well the synthetic time series conforms to the local context of the original time series.\n",
    "<br> This means it assesses whether the synthetic data not only matches the overall distribution but also appropriately captures the sequences, patterns, and conditional relationships present in the real data\n",
    "<br>\n",
    "<br> TS2Vec might be better as it can handle long sequencing internally, but I would start with CNN encoder, as it is simpler and faster (for now). \n",
    "<br> But that would also mean having to create sliding windows(?) to create batches of time-series windows to apply C-FID properly. "
   ]
  },
  {
   "cell_type": "code",
   "execution_count": 16,
   "id": "6fc8a711-a39c-404d-addd-d258f84c1439",
   "metadata": {},
   "outputs": [],
   "source": [
    "# convert to np array for further processing (normalization, windowing)\n",
    "real_np = real_df.values\n",
    "synth_np = synth_df.values\n",
    "\n",
    "# normalise both data\n",
    "scaler = StandardScaler()\n",
    "real_scaled = scaler.fit_transform(real_np)\n",
    "synth_scaled = scaler.transform(synth_np)"
   ]
  },
  {
   "cell_type": "code",
   "execution_count": 17,
   "id": "1cfe8dc8-3e33-43ab-b079-af07578edb73",
   "metadata": {},
   "outputs": [],
   "source": [
    "# create batches of time-series windows\n",
    "def sliding_window(data, window_size=30, stride=5):\n",
    "    return np.stack([\n",
    "        data[i:i + window_size]\n",
    "        for i in range(0, len(data) - window_size + 1, stride)\n",
    "    ])\n",
    "\n",
    "window_size = 30\n",
    "stride = 5\n",
    "real_windows = sliding_window(real_scaled, window_size, stride)   # (num_windows, 30, 6)\n",
    "synth_windows = sliding_window(synth_scaled, window_size, stride)\n"
   ]
  },
  {
   "cell_type": "code",
   "execution_count": 18,
   "id": "5817e4ef-22a0-45e0-ba41-b7830cdecce4",
   "metadata": {},
   "outputs": [],
   "source": [
    "# CNN encoder\n",
    "# add more filters\n",
    "# add BatchNorm\n",
    "# add dropout \n",
    "class CNNEncoder(nn.Module):\n",
    "    def __init__(self, input_channels=6, embedding_dim=128):\n",
    "        super().__init__()\n",
    "        self.encoder = nn.Sequential(\n",
    "            nn.Conv1d(input_channels, 64, kernel_size=3, padding=1),\n",
    "            nn.BatchNorm1d(64),\n",
    "            nn.ReLU(),\n",
    "            nn.Conv1d(64, 128, kernel_size=3, padding=1),\n",
    "            nn.BatchNorm1d(128),\n",
    "            nn.ReLU(),\n",
    "            nn.Conv1d(128, embedding_dim, kernel_size=3, padding=1),\n",
    "            nn.BatchNorm1d(embedding_dim),\n",
    "            nn.ReLU(),\n",
    "            nn.Dropout(0.2),\n",
    "        )\n",
    "        self.global_avg_pool = nn.AdaptiveAvgPool1d(1)\n",
    "        self.global_max_pool = nn.AdaptiveMaxPool1d(1)\n",
    "\n",
    "    def forward(self, x):\n",
    "        x = self.encoder(x)\n",
    "        avg_pooled = self.global_avg_pool(x).squeeze(-1)\n",
    "        max_pooled = self.global_max_pool(x).squeeze(-1)\n",
    "        \n",
    "        # Concatenate avg and max pooling results to make it better?\n",
    "        return torch.cat([avg_pooled, max_pooled], dim=1)  # shape: (batch, embedding_dim*2)\n"
   ]
  },
  {
   "cell_type": "code",
   "execution_count": 19,
   "id": "551a8a7c-499f-449b-801b-fa0cfcc9ad71",
   "metadata": {},
   "outputs": [],
   "source": [
    "device = \"cpu\"\n",
    "encoder = CNNEncoder(input_channels=real_windows.shape[2]).to(device)\n",
    "encoder.eval()\n",
    "\n",
    "def encode_windows(windows):\n",
    "    with torch.no_grad():\n",
    "        tensor = torch.tensor(windows, dtype=torch.float32).permute(0, 2, 1).to(device)  # (B, C, T)\n",
    "        embeddings = encoder(tensor).cpu().numpy()  # (B, 64)\n",
    "    return embeddings\n",
    "\n",
    "real_embed = encode_windows(real_windows)\n",
    "synth_embed = encode_windows(synth_windows)\n"
   ]
  },
  {
   "cell_type": "code",
   "execution_count": 20,
   "id": "66502391-3d2a-4f6c-beee-0b284b25d72c",
   "metadata": {},
   "outputs": [
    {
     "name": "stdout",
     "output_type": "stream",
     "text": [
      "C-FID score: 0.47363304430394615\n"
     ]
    }
   ],
   "source": [
    "def frechet_distance(mu1, sigma1, mu2, sigma2):\n",
    "    covmean = sqrtm(sigma1 @ sigma2)\n",
    "    if np.iscomplexobj(covmean):\n",
    "        covmean = covmean.real\n",
    "    return np.sum((mu1 - mu2) ** 2) + np.trace(sigma1 + sigma2 - 2 * covmean)\n",
    "\n",
    "mu_real = real_embed.mean(axis=0)\n",
    "mu_synth = synth_embed.mean(axis=0)\n",
    "cov_real = np.cov(real_embed, rowvar=False)\n",
    "cov_synth = np.cov(synth_embed, rowvar=False)\n",
    "\n",
    "cfid_score = frechet_distance(mu_real, cov_real, mu_synth, cov_synth)\n",
    "print(\"C-FID score:\", cfid_score)"
   ]
  },
  {
   "cell_type": "code",
   "execution_count": 21,
   "id": "acb343a0-35b7-4705-9dce-986d972cb444",
   "metadata": {},
   "outputs": [],
   "source": [
    "# # from Ang et al., 2023\n",
    "# def calculate_fid(act1, act2):\n",
    "#     # calculate mean and covariance statistics\n",
    "#     mu1, sigma1 = act1.mean(axis=0), np.cov(act1, rowvar=False)\n",
    "#     mu2, sigma2 = act2.mean(axis=0), np.cov(act2, rowvar=False)\n",
    "#     # calculate sum squared difference between means\n",
    "#     ssdiff = np.sum((mu1 - mu2)**2.0)\n",
    "#     # calculate sqrt of product between cov\n",
    "#     covmean = sqrtm(sigma1.dot(sigma2))\n",
    "#     # check and correct imaginary numbers from sqrt\n",
    "#     if np.iscomplexobj(covmean):\n",
    "#         covmean = covmean.real\n",
    "#     # calculate score\n",
    "#     fid = ssdiff + np.trace(sigma1 + sigma2 - 2.0 * covmean)\n",
    "#     return fid"
   ]
  },
  {
   "cell_type": "markdown",
   "id": "2a7bd923-ebea-4a35-84b1-6d2d63adae1e",
   "metadata": {},
   "source": [
    "NOTE:\n",
    "- Lower score = more similar\n",
    "- CNN is not pre-trained, though can be done to ensure stability?\n",
    "- maybe add dropout"
   ]
  },
  {
   "cell_type": "markdown",
   "id": "3c135368-4ecd-4568-9cbf-f401f0d2845e",
   "metadata": {},
   "source": [
    "#### Feature-based measure"
   ]
  },
  {
   "cell_type": "markdown",
   "id": "2cb72e03-b8ad-444d-9336-9b3309973672",
   "metadata": {},
   "source": [
    "##### Marginal Distribution Difference MDD\n",
    "how closely the distributions of the original and generated series align (Ang2023)\n",
    "<br> Computes empirical histograms for each dimension and time step of the generated series using the original series' bin centers and widths, then calculates the average absolute difference between the two histograms across bins."
   ]
  },
  {
   "cell_type": "code",
   "execution_count": 22,
   "id": "c82086b3-eb9f-4b40-bb93-b9042cb8d3c0",
   "metadata": {},
   "outputs": [],
   "source": [
    "# make it better with more bins, or adaptive bins\n",
    "# use L2 (Euclidean) \n",
    "# use normalization? smooth ?\n",
    "class HistoLoss(nn.Module):\n",
    "    def __init__(self, x_real, n_bins=100, eps=1e-8, device='cpu'):\n",
    "        super().__init__()\n",
    "        self.n_bins = n_bins\n",
    "        self.eps = eps\n",
    "        self.device = device\n",
    "        \n",
    "        self.ref_histograms = []\n",
    "        self.bin_edges = []\n",
    "        for i in range(x_real.shape[2]):\n",
    "            values = x_real[:, :, i].reshape(-1)\n",
    "            # Adaptive bin edges via quantiles\n",
    "            bins = torch.quantile(values, torch.linspace(0, 1, n_bins + 1))\n",
    "            self.bin_edges.append(bins)\n",
    "            \n",
    "            hist = torch.histogram(values, bins=bins, density=True).hist + eps\n",
    "            hist = hist / hist.sum()  # normalize\n",
    "            self.ref_histograms.append(hist)\n",
    "        \n",
    "        self.ref_histograms = torch.stack(self.ref_histograms).to(device)\n",
    "        self.bin_edges = [b.to(device) for b in self.bin_edges]\n",
    "    \n",
    "    def forward(self, x_fake):\n",
    "        fake_histograms = []\n",
    "        for i in range(x_fake.shape[2]):\n",
    "            values = x_fake[:, :, i].reshape(-1)\n",
    "            bins = self.bin_edges[i]\n",
    "            hist = torch.histogram(values, bins=bins, density=True).hist + self.eps\n",
    "            hist = hist / hist.sum()\n",
    "            fake_histograms.append(hist)\n",
    "        fake_histograms = torch.stack(fake_histograms).to(self.device)\n",
    "        \n",
    "        # Use L2 distance\n",
    "        # how far apart the histograms are; lower = better match.\n",
    "        diff = (self.ref_histograms - fake_histograms) ** 2\n",
    "        loss = torch.sqrt(diff.sum(dim=1)).mean()  # mean over features\n",
    "        return loss"
   ]
  },
  {
   "cell_type": "code",
   "execution_count": 23,
   "id": "33441ab3-266e-4573-8e9a-097e9e827693",
   "metadata": {},
   "outputs": [],
   "source": [
    "def calculate_mdd(ori_data, gen_data): \n",
    "    if not torch.is_tensor(ori_data):\n",
    "        ori_data = torch.tensor(ori_data, dtype=torch.float32)\n",
    "    if not torch.is_tensor(gen_data):\n",
    "        gen_data = torch.tensor(gen_data, dtype=torch.float32)\n",
    "    \n",
    "    histo_loss = HistoLoss(ori_data, n_bins=50)\n",
    "    mdd = histo_loss(gen_data)\n",
    "    return mdd.item()"
   ]
  },
  {
   "cell_type": "code",
   "execution_count": 24,
   "id": "cd8c7430-bfb5-4774-911b-25ff6071e91c",
   "metadata": {},
   "outputs": [
    {
     "name": "stdout",
     "output_type": "stream",
     "text": [
      "MDD score: nan\n"
     ]
    }
   ],
   "source": [
    "# real_windows already in shape: (num_real_windows, window_size, features)\n",
    "mdd_score = calculate_mdd(real_windows, synth_windows)\n",
    "print(\"MDD score:\", mdd_score)"
   ]
  },
  {
   "cell_type": "markdown",
   "id": "d9d0f289-01e4-480a-b03c-a2e11b3818d2",
   "metadata": {},
   "source": [
    "NOTE:\n",
    "- can increase n_bins for finer granularity or implement smoothing kernels if there is time.\n",
    "- Lower scores mean better fidelity. synthetic data marginal distributions are closer to real data.\n",
    "- \\> 0.3: probably poor fidelity"
   ]
  },
  {
   "cell_type": "markdown",
   "id": "53776666-6962-461b-8c12-87d2271eb284",
   "metadata": {},
   "source": [
    "##### Skewness Difference SD\n",
    "Measure how asymmetrical/lopsided 2 distributions are"
   ]
  },
  {
   "cell_type": "code",
   "execution_count": 25,
   "id": "b2814475-4de9-4ba8-9810-f2255508f8f4",
   "metadata": {},
   "outputs": [],
   "source": [
    "# Efficient skewness computation across time and samples per feature\n",
    "def skew_torch(x, dim=(0, 1), dropdims=False):\n",
    "    mean = x.mean(dim=dim, keepdim=True)\n",
    "    std = x.std(dim=dim, unbiased=True, keepdim=True)\n",
    "    skew = ((x - mean) ** 3).mean(dim=dim, keepdim=True) / (std ** 3 + 1e-6)  # Add epsilon to avoid divide-by-zero\n",
    "    return skew.squeeze() if dropdims else skew\n",
    "\n",
    "# Skewness difference as L1 norm between real and fake skewness per feature\n",
    "def calculate_sd(real_tensor, synth_tensor):\n",
    "    # Ensure tensors are float32 and on same device\n",
    "    real_tensor = torch.as_tensor(real_tensor, dtype=torch.float32)\n",
    "    synth_tensor = torch.as_tensor(synth_tensor, dtype=torch.float32)\n",
    "\n",
    "    skew_real = skew_torch(real_tensor, dim=(0, 1), dropdims=True)   # shape: (num_features,)\n",
    "    skew_fake = skew_torch(synth_tensor, dim=(0, 1), dropdims=True)  # shape: (num_features,)\n",
    "\n",
    "    # Compute L1 difference between real and fake skewness vectors\n",
    "    sd = torch.abs(skew_real - skew_fake).mean()\n",
    "    return float(sd)\n"
   ]
  },
  {
   "cell_type": "code",
   "execution_count": 26,
   "id": "04294208-7dc3-488c-ba52-cbedf134fd99",
   "metadata": {},
   "outputs": [
    {
     "name": "stdout",
     "output_type": "stream",
     "text": [
      "Skewness Difference (SD): 3.313157081604004\n"
     ]
    }
   ],
   "source": [
    "sd_score = calculate_sd(real_windows, synth_windows)\n",
    "print(\"Skewness Difference (SD):\", sd_score)"
   ]
  },
  {
   "cell_type": "markdown",
   "id": "67bf0115-3707-496e-bffe-d095958be4df",
   "metadata": {},
   "source": [
    "NOTE:\n",
    "- lower SD score the better\n",
    "- \\> 0.3 is poor skewness? "
   ]
  },
  {
   "cell_type": "markdown",
   "id": "53030922-e19a-4029-8262-75903e041b03",
   "metadata": {},
   "source": [
    "##### Kurtosis Difference KD\n",
    "How high tailed the tail is. For outliers."
   ]
  },
  {
   "cell_type": "code",
   "execution_count": 53,
   "id": "028ab29d-e026-4eed-a3a0-ef4ff1961ab8",
   "metadata": {},
   "outputs": [],
   "source": [
    "def kurtosis_torch(x, dim=(0, 1), excess=True, dropdims=False):\n",
    "    mean = x.mean(dim=dim, keepdim=True)\n",
    "    var = x.var(dim=dim, unbiased=False, keepdim=True)\n",
    "    x_centered = x - mean\n",
    "    x_4 = (x_centered ** 4).mean(dim=dim, keepdim=True)\n",
    "    kurt = x_4 / (var ** 2 + 1e-6)  # Add epsilon to avoid divide-by-zero\n",
    "\n",
    "    if excess:\n",
    "        kurt = kurt - 3\n",
    "    return kurt.squeeze() if dropdims else kurt\n",
    "\n",
    "def calculate_kd(real_tensor, synth_tensor):\n",
    "    # Ensure tensors are float32 and on same device\n",
    "    real_tensor = torch.as_tensor(real_tensor, dtype=torch.float32)\n",
    "    synth_tensor = torch.as_tensor(synth_tensor, dtype=torch.float32)\n",
    "\n",
    "    kurt_real = kurtosis_torch(real_tensor, dim=(0, 1), excess=True, dropdims=True)   # shape: (num_features,)\n",
    "    kurt_fake = kurtosis_torch(synth_tensor, dim=(0, 1), excess=True, dropdims=True)  # shape: (num_features,)\n",
    "\n",
    "    kd = torch.abs(kurt_real - kurt_fake).mean()\n",
    "    return float(kd)"
   ]
  },
  {
   "cell_type": "code",
   "execution_count": 28,
   "id": "b1f8db49-4a37-4ceb-af56-74457c4e305d",
   "metadata": {},
   "outputs": [
    {
     "name": "stdout",
     "output_type": "stream",
     "text": [
      "Kurtosis Difference (KD): 30.824060440063477\n"
     ]
    }
   ],
   "source": [
    "kd_score = calculate_kd(real_windows, synth_windows)\n",
    "print(\"Kurtosis Difference (KD):\", kd_score)"
   ]
  },
  {
   "cell_type": "markdown",
   "id": "691ec186-f2ee-453b-ba1b-d645486dcb41",
   "metadata": {},
   "source": [
    "NOTE:\n",
    "- lower KD = better kurtosis\n",
    "- KD \\> 1 is pretty bad "
   ]
  },
  {
   "cell_type": "markdown",
   "id": "ebea084c-b2d8-4ced-842c-75dae89c9e43",
   "metadata": {},
   "source": [
    "#### Distance-based measure - Dynamic Time Wrapping (DTW) \n",
    "Determines the similiarty between two sequences by considering shifts in the time dimension.\n",
    "<br> The distance matrix typically uses Euclidean distance between corresponding points in the data."
   ]
  },
  {
   "cell_type": "code",
   "execution_count": 29,
   "id": "6d4c1635-916d-432a-881d-3264281daaf5",
   "metadata": {},
   "outputs": [],
   "source": [
    "def multi_dtw_distance(ts1, ts2):\n",
    "    \"\"\"\n",
    "    Compute multivariate DTW distance between two multivariate time series arrays.\n",
    "    ts1 and ts2 shape: (window_size, num_features)\n",
    "    sum DTW distances across each feature independently.\n",
    "    \"\"\"\n",
    "    total_dist = 0.0\n",
    "    num_features = ts1.shape[1]\n",
    "    for f in range(num_features):\n",
    "        series1 = ts1[:, f]\n",
    "        series2 = ts2[:, f]\n",
    "        dist = dtw.distance(series1, series2)  # univariate DTW per feature\n",
    "        total_dist += dist\n",
    "    return total_dist\n",
    "\n",
    "def calculate_dtw(ori_data, comp_data):\n",
    "    \"\"\"\n",
    "    Compute average multivariate DTW distance between paired time series windows.\n",
    "    \n",
    "    Args:\n",
    "        ori_data: np.ndarray, shape (num_samples, window_size, num_features)\n",
    "        comp_data: np.ndarray, same shape as ori_data\n",
    "        \n",
    "    Returns:\n",
    "        average DTW distance over all sample pairs\n",
    "    \"\"\"\n",
    "    n_samples = min(ori_data.shape[0], comp_data.shape[0])\n",
    "    distance_dtw = []\n",
    "    \n",
    "    for i in range(n_samples):\n",
    "        dist = multi_dtw_distance(ori_data[i].astype(np.double), comp_data[i].astype(np.double))\n",
    "        distance_dtw.append(dist)\n",
    "    \n",
    "    average_distance_dtw = np.mean(distance_dtw)\n",
    "    return average_distance_dtw\n"
   ]
  },
  {
   "cell_type": "code",
   "execution_count": 30,
   "id": "485bee23-448e-441f-9af0-12b9b1a6920c",
   "metadata": {},
   "outputs": [
    {
     "name": "stdout",
     "output_type": "stream",
     "text": [
      "Dynamic Time Wrapping (DTW): 17.235519212067576\n"
     ]
    }
   ],
   "source": [
    "dtw_score = calculate_dtw(real_windows, synth_windows)\n",
    "print(\"Dynamic Time Wrapping (DTW):\", dtw_score)"
   ]
  },
  {
   "cell_type": "code",
   "execution_count": 31,
   "id": "8ba4c737-d055-46c3-aa88-0fca12fbaa9e",
   "metadata": {},
   "outputs": [
    {
     "name": "stdout",
     "output_type": "stream",
     "text": [
      "DTW (real vs real): 0.0\n",
      "DTW (real vs noise): 36.81997380393092\n"
     ]
    }
   ],
   "source": [
    "# for interpretation\n",
    "# real vs real\n",
    "real_baseline = calculate_dtw(real_windows, real_windows.copy())\n",
    "print(\"DTW (real vs real):\", real_baseline)\n",
    "\n",
    "# real vs nonsense\n",
    "noise_windows = np.random.normal(loc=0, scale=1, size=real_windows.shape)\n",
    "dtw_noise = calculate_dtw(real_windows, noise_windows)\n",
    "print(\"DTW (real vs noise):\", dtw_noise)"
   ]
  },
  {
   "cell_type": "markdown",
   "id": "c50a8ecf-9e6b-4459-bac3-7cb633e88e91",
   "metadata": {},
   "source": [
    "NOTE:\n",
    "- lower DTW means that time series are more similar\n",
    "- if synthetic DTW is lower than the shuffled/noise DTW and close to real vs real, means model captures time-based structure well.\n",
    "- real vs noise is the upper bound. So anything in between is moderately ok."
   ]
  },
  {
   "cell_type": "markdown",
   "id": "721ad0ee-9f60-49e3-abe7-de69c2e6d80e",
   "metadata": {},
   "source": [
    "### Diversity metric\n",
    "Diversity gauges how closely the generated series distribution mirrors the original (Ang et al., 2023)\n",
    "<br> How well the synthetic captures variability and originality of the real data? That is the synthesis or the generalisation metric?\n",
    "<br> Then that would also be the DS and ACD scores? "
   ]
  },
  {
   "cell_type": "markdown",
   "id": "2d06912e-7775-467f-a920-623c2ea3b539",
   "metadata": {},
   "source": [
    "##### Marginal Distribution Difference MDD\n",
    "refer to above"
   ]
  },
  {
   "cell_type": "markdown",
   "id": "999603c5-e6bc-40b3-a988-261a1de5722e",
   "metadata": {},
   "source": [
    "##### AutoCorrelation Difference ACD\n",
    "Time-series data often have characteristic autocorrelation patterns.\n",
    "<br> Measure of autocorrelation structures are between the real and synthetic time-series.\n",
    "<br> ACD can reflect variability and temporal dynamics across many samples."
   ]
  },
  {
   "cell_type": "code",
   "execution_count": 32,
   "id": "109d23f2-8fce-414e-88be-ae1d4ab04be2",
   "metadata": {},
   "outputs": [],
   "source": [
    "def acf_torch(x: torch.Tensor, max_lag: int, dim=(0,1), eps=1e-8) -> torch.Tensor:\n",
    "    # centre the data with mean, and find var\n",
    "    x = x - x.mean(dim=dim, keepdim=True)\n",
    "    var = torch.var(x, dim=dim, unbiased=False, keepdim=True) + eps\n",
    "\n",
    "    acf_list = []\n",
    "    for lag in range(max_lag):\n",
    "        if lag == 0:\n",
    "            # autocorr at lag 0\n",
    "            acf_lag = torch.ones(x.shape[2], device=x.device)\n",
    "        else:\n",
    "            multiplied = x[:, :-lag, :] * x[:, lag:, :]\n",
    "            acf_lag = multiplied.mean(dim=dim) / var.squeeze() # compute covar at lag\n",
    "        acf_list.append(acf_lag)\n",
    "    return torch.stack(acf_list)\n",
    "\n",
    "class ACFLoss(nn.Module):\n",
    "    def __init__(self, x_real, max_lag=30):\n",
    "        super().__init__()\n",
    "        self.max_lag = min(max_lag, x_real.shape[1])\n",
    "        self.acf_real = acf_torch(x_real, self.max_lag)\n",
    "\n",
    "    def forward(self, x_fake):\n",
    "        acf_fake = acf_torch(x_fake, self.max_lag)\n",
    "        diff = torch.abs(acf_fake - self.acf_real.to(x_fake.device))\n",
    "        return diff.mean()\n",
    "\n",
    "def calculate_acd(ori_data, gen_data, max_lag=30):\n",
    "    # QC - if integer tensors, mean/var can misbehave!! \n",
    "    if not torch.is_tensor(ori_data):\n",
    "        ori_data = torch.tensor(ori_data, dtype=torch.float32)\n",
    "    if not torch.is_tensor(gen_data):\n",
    "        gen_data = torch.tensor(gen_data, dtype=torch.float32)\n",
    "    \n",
    "    # print error\n",
    "    assert not torch.isnan(ori_data).any() and not torch.isnan(gen_data).any(), \"NaNs detected!\"\n",
    "    assert not torch.isinf(ori_data).any() and not torch.isinf(gen_data).any(), \"Infs detected!\"\n",
    "\n",
    "    acf_loss_fn = ACFLoss(ori_data, max_lag=max_lag)\n",
    "    acd_score = acf_loss_fn(gen_data).item()\n",
    "    return acd_score\n"
   ]
  },
  {
   "cell_type": "code",
   "execution_count": 33,
   "id": "66fc586f-ef7b-4213-94fb-d669ff35eca7",
   "metadata": {},
   "outputs": [
    {
     "name": "stdout",
     "output_type": "stream",
     "text": [
      "Autocorrelation difference (ACD): 0.15397515892982483\n"
     ]
    }
   ],
   "source": [
    "acd_score = calculate_acd(real_windows, synth_windows)\n",
    "print(\"Autocorrelation difference (ACD):\", acd_score)"
   ]
  },
  {
   "cell_type": "markdown",
   "id": "f165cae2-05bf-46c7-8a4d-571828e7635a",
   "metadata": {},
   "source": [
    "NOTE:\n",
    "- lower score, lower the abs diff between autocorr at multiple lags\n",
    "- acd \\> 0.3 means larger diff, data may not properly capture temporal dynamics?\n"
   ]
  },
  {
   "cell_type": "markdown",
   "id": "51bfa71e-17e5-4f3e-8acd-2c53850c1958",
   "metadata": {},
   "source": [
    "### Privacy metric"
   ]
  },
  {
   "cell_type": "markdown",
   "id": "14d9c190-67ab-49fc-a8d0-758d18542817",
   "metadata": {},
   "source": [
    "#### Nearest neighbor distance ratio NNDR\n",
    "NNDR measures the ratio of each synthetic record’s distance to the nearest training neighbor compared to the distance to the second nearest training neighbor. \n",
    "Higher values indicate better privacy. Low values may reveal sensitive information from the closest real data record. A value close to 0 implies that the point is likely to be close to an outlier. "
   ]
  },
  {
   "cell_type": "code",
   "execution_count": 34,
   "id": "13af0b1a-6a09-48e3-99f1-8a0777555c62",
   "metadata": {},
   "outputs": [],
   "source": [
    "def compute_nndr(real_scaled, synth_scaled):\n",
    "    \"\"\"\n",
    "    Compute Nearest Neighbor Distance Ratio (NNDR) for synthetic records.\n",
    "\n",
    "    Parameters:\n",
    "    - real_scaled: np.array of shape (n_real, n_features)\n",
    "    - synth_scaled: np.array of shape (n_synth, n_features)\n",
    "\n",
    "    Returns:\n",
    "    - A dictionary with:\n",
    "        - median_nndr: median NNDR\n",
    "        - p5_nndr: 5th percentile NNDR\n",
    "        - all_nndrs: array of NNDRs (optional for deeper inspection)\n",
    "    \"\"\"\n",
    "    # Fit NearestNeighbors model on real data with k=2\n",
    "    nn = NearestNeighbors(n_neighbors=2)\n",
    "    nn.fit(real_scaled)\n",
    "\n",
    "    # Get the two closest neighbors for each synthetic sample\n",
    "    distances, _ = nn.kneighbors(synth_scaled, return_distance=True)\n",
    "\n",
    "    # Compute NNDR = d1 / d2 (avoid divide-by-zero)\n",
    "    d1 = distances[:, 0]\n",
    "    d2 = distances[:, 1]\n",
    "    nndrs = np.divide(d1, d2, out=np.zeros_like(d1), where=d2 != 0)\n",
    "\n",
    "    return {\n",
    "        \"median_nndr\": np.median(nndrs),\n",
    "        \"p5_nndr\": np.percentile(nndrs, 5),\n",
    "        \"all_nndrs\": nndrs\n",
    "    }\n"
   ]
  },
  {
   "cell_type": "code",
   "execution_count": 35,
   "id": "2ad99369-301f-4263-a6a9-e5b73fd63d25",
   "metadata": {},
   "outputs": [
    {
     "name": "stdout",
     "output_type": "stream",
     "text": [
      "NNDR (median): 0.9544895413479654\n",
      "NNDR (5th percentile): 0.7160451836466035\n"
     ]
    }
   ],
   "source": [
    "# use normalised, do not need windows\n",
    "nndr_results = compute_nndr(real_scaled, synth_scaled)\n",
    "print(\"NNDR (median):\", nndr_results[\"median_nndr\"])\n",
    "print(\"NNDR (5th percentile):\", nndr_results[\"p5_nndr\"])"
   ]
  },
  {
   "cell_type": "markdown",
   "id": "38afee2f-487e-4c15-aa92-31110fb167e2",
   "metadata": {},
   "source": [
    "#### Distance to closest record DCR\n",
    "DCR is a popular privacy metric that has been in use for quite some time. In its most basic form it measures the Euclidean distance between any synthetic record and its closest corresponding real neighbor. \n",
    "Sometimes the median distance is reported, and sometimes distance at the 5th percentile. Ideally, the higher the DCR the lesser the risk of privacy breach. "
   ]
  },
  {
   "cell_type": "code",
   "execution_count": 36,
   "id": "5702c3a3-1d01-4ce8-9e16-317519fd838f",
   "metadata": {},
   "outputs": [],
   "source": [
    "def compute_dcr(real_scaled, synth_scaled):\n",
    "    \"\"\"\n",
    "    Compute Distance to Closest Record (DCR) for synthetic records.\n",
    "\n",
    "    Parameters:\n",
    "    - real_scaled: np.array of shape (n_real, n_features)\n",
    "    - synth_scaled: np.array of shape (n_synth, n_features)\n",
    "\n",
    "    Returns:\n",
    "    - A dictionary with:\n",
    "        - median_dcr: median distance\n",
    "        - p5_dcr: 5th percentile distance (privacy risk indicator)\n",
    "        - all_dcrs: array of distances (optional for further analysis)\n",
    "    \"\"\"\n",
    "    # Fit NearestNeighbors model on real data\n",
    "    nn = NearestNeighbors(n_neighbors=1)\n",
    "    nn.fit(real_scaled)\n",
    "\n",
    "    # Find the nearest real neighbor for each synthetic point\n",
    "    distances, _ = nn.kneighbors(synth_scaled, return_distance=True)\n",
    "    dcrs = distances[:, 0]\n",
    "\n",
    "    return {\n",
    "        \"median_dcr\": np.median(dcrs),\n",
    "        \"p5_dcr\": np.percentile(dcrs, 5),\n",
    "        \"all_dcrs\": dcrs\n",
    "    }"
   ]
  },
  {
   "cell_type": "code",
   "execution_count": 37,
   "id": "70920aa1-1371-4019-900e-6787728431dc",
   "metadata": {},
   "outputs": [
    {
     "name": "stdout",
     "output_type": "stream",
     "text": [
      "DCR (median): 0.03232130483795981\n",
      "DCR (5th percentile): 0.011971626365536395\n"
     ]
    }
   ],
   "source": [
    "# use normalised values\n",
    "dcr_results = compute_dcr(real_scaled, synth_scaled)\n",
    "print(\"DCR (median):\", dcr_results[\"median_dcr\"])\n",
    "print(\"DCR (5th percentile):\", dcr_results[\"p5_dcr\"])\n"
   ]
  },
  {
   "cell_type": "markdown",
   "id": "433425fc-cac3-4916-ab44-55243d1a4bd9",
   "metadata": {},
   "source": [
    "NOTE:\n",
    "- Higher NNDR - better privacy\n",
    "- Higher DCR - better privacy\n",
    "- if close to 0, indicate memorization or leakage. Too close to real data."
   ]
  },
  {
   "cell_type": "markdown",
   "id": "db650f7b-5ed8-4d2c-b114-df85303f3501",
   "metadata": {},
   "source": [
    "#### Membership Inference Attacks MIA\n",
    "Determine if an attacker can identify if certain real records have been used to train the synthetic data generation algorithm.\n",
    "<br> Or if synthetic data records can infer back to real records"
   ]
  },
  {
   "cell_type": "code",
   "execution_count": 38,
   "id": "04f67854-7cd0-41f7-bcaa-0f884508d8ea",
   "metadata": {},
   "outputs": [],
   "source": [
    "def distance_based_mia(real_scaled, holdout_scaled, synth_scaled):\n",
    "    \"\"\"\n",
    "    Perform a distance-based MIA using 1-NN approach to synthetic records.\n",
    "    \n",
    "    Parameters:\n",
    "    - real_scaled: real training data (members)\n",
    "    - holdout_scaled: real hold-out data (non-members)\n",
    "    - synth_scaled: synthetic data\n",
    "    \n",
    "    Returns:\n",
    "    - auc: ROC-AUC score of the membership attack\n",
    "    - dist_real: distances from real to nearest synth\n",
    "    - dist_holdout: distances from holdout to nearest synth\n",
    "    \"\"\"\n",
    "    # Fit NN on synthetic data\n",
    "    nn = NearestNeighbors(n_neighbors=1)\n",
    "    nn.fit(synth_scaled)\n",
    "\n",
    "    # Distances to synthetic records\n",
    "    # If real training point is close to synthetic data, it might be “remembered” by the synthetic data generator.\n",
    "    dist_real, _ = nn.kneighbors(real_scaled)\n",
    "    dist_holdout, _ = nn.kneighbors(holdout_scaled)\n",
    "\n",
    "    # Flatten distances\n",
    "    dist_real = dist_real.ravel()\n",
    "    dist_holdout = dist_holdout.ravel()\n",
    "\n",
    "    # Create labels: 1 = member, 0 = non-member\n",
    "    # Smaller distance to synthetic data → more likely to be a member.\n",
    "    labels = np.concatenate([np.ones_like(dist_real), np.zeros_like(dist_holdout)])\n",
    "    distances = np.concatenate([dist_real, dist_holdout])\n",
    "\n",
    "    # Lower distance = more likely to be a member → reverse for ROC-AUC?\n",
    "    auc = roc_auc_score(labels, -distances)\n",
    "    \n",
    "    return {\n",
    "        \"roc_auc\": auc,\n",
    "        \"dist_real\": dist_real,\n",
    "        \"dist_holdout\": dist_holdout\n",
    "    }\n"
   ]
  },
  {
   "cell_type": "code",
   "execution_count": 39,
   "id": "b411ea50-53b8-4581-b4a6-ecb0379c1f8b",
   "metadata": {},
   "outputs": [
    {
     "name": "stdout",
     "output_type": "stream",
     "text": [
      "Distance-based MIA ROC-AUC: 0.506567295652174\n"
     ]
    }
   ],
   "source": [
    "# assume holdout set\n",
    "# use normalised data?\n",
    "real_train = real_scaled[:10000]     # training members\n",
    "real_holdout = real_scaled[10000:]   # non-members\n",
    "\n",
    "mia_result = distance_based_mia(real_train, real_holdout, synth_scaled)\n",
    "print(\"Distance-based MIA ROC-AUC:\", mia_result[\"roc_auc\"])"
   ]
  },
  {
   "cell_type": "markdown",
   "id": "a821e8de-1169-4e37-81ca-011fc2899512",
   "metadata": {},
   "source": [
    "NOTE:\n",
    "- ROC_AUC ~0.5 - good privacy (model cannot tell)\n",
    "- ROC_AUC \\> 0.7 - leakage, model can diff members and non-members"
   ]
  },
  {
   "cell_type": "markdown",
   "id": "6d9c2222-06ce-4d99-9e5b-04bafc01aa1a",
   "metadata": {},
   "source": [
    "### Utility metric\n",
    "Replicate task-based behavior of real stock data.\n",
    "<br> Usefulness assesses the generated series’ practical utility in predictive tasks (Ang et al., 2023)"
   ]
  },
  {
   "cell_type": "markdown",
   "id": "1dbd2718-fe5a-4f75-96c5-f9e264928ebe",
   "metadata": {},
   "source": [
    "#### Max mean discrepancy MMD\n",
    "Measure difference between two probability distributions. \n",
    "<br> Measure how far apart the mean embeddings of the real and synthetic distributions are in HD space."
   ]
  },
  {
   "cell_type": "code",
   "execution_count": 40,
   "id": "6b87775a-af46-439c-8a53-f18618fdd9e5",
   "metadata": {},
   "outputs": [],
   "source": [
    "def compute_mmd(x, y, gamma=1.0):\n",
    "    Kxx = rbf_kernel(x, x, gamma=gamma)\n",
    "    Kyy = rbf_kernel(y, y, gamma=gamma)\n",
    "    Kxy = rbf_kernel(x, y, gamma=gamma)\n",
    "    return Kxx.mean() + Kyy.mean() - 2 * Kxy.mean()"
   ]
  },
  {
   "cell_type": "code",
   "execution_count": 41,
   "id": "86742952-152f-470f-bf17-d583d3dae79a",
   "metadata": {},
   "outputs": [],
   "source": [
    "# def compute_mmd(X, Y, kernel='rbf', sigma=1.0):\n",
    "#     \"\"\"linear version not necessary faster\"\"\"\n",
    "#     Kxx = rbf_kernel(X, X, gamma=1/(2*sigma**2))\n",
    "#     Kyy = rbf_kernel(Y, Y, gamma=1/(2*sigma**2))\n",
    "#     Kxy = rbf_kernel(X, Y, gamma=1/(2*sigma**2))\n",
    "\n",
    "#     m = len(X)\n",
    "#     n = len(Y)\n",
    "\n",
    "#     mmd_sq = (Kxx.sum() - np.trace(Kxx)) / (m * (m - 1)) \\\n",
    "#            + (Kyy.sum() - np.trace(Kyy)) / (n * (n - 1)) \\\n",
    "#            - 2 * Kxy.mean()\n",
    "#     return np.sqrt(mmd_sq)\n"
   ]
  },
  {
   "cell_type": "code",
   "execution_count": 42,
   "id": "5721a1f3-3e9d-4eda-863c-59cb8ed6b5a3",
   "metadata": {},
   "outputs": [
    {
     "name": "stdout",
     "output_type": "stream",
     "text": [
      "Max mean discrepancy: 0.0006707438894860786\n"
     ]
    }
   ],
   "source": [
    "# mmd_score = compute_mmd(real_df.values, synth_df.values)\n",
    "\n",
    "N = 3000  # take sample, faster\n",
    "real_sample = real_df.sample(N, random_state=42).values\n",
    "synth_sample = synth_df.sample(N, random_state=42).values\n",
    "mmd_score = compute_mmd(real_sample, synth_sample)\n",
    "print(\"Max mean discrepancy:\", mmd_score)"
   ]
  },
  {
   "cell_type": "markdown",
   "id": "a5d3165a-4df6-4641-bf20-353fef14ba73",
   "metadata": {},
   "source": [
    "NOTE:\n",
    "- took too long long rbf_kernel, use linear which is faster?\n",
    "- MMD compares all features (multivariate comparison)\n",
    "- lower MMD, synthetic data have similar distribution to real data"
   ]
  },
  {
   "cell_type": "markdown",
   "id": "f6d17449-3cbc-46f8-afe7-0c09b5157029",
   "metadata": {},
   "source": [
    "#### stock performance"
   ]
  },
  {
   "cell_type": "code",
   "execution_count": 43,
   "id": "a07ced75-f871-4a37-8d49-058ab9c01ad4",
   "metadata": {},
   "outputs": [],
   "source": [
    "# real data with id\n",
    "data_dir = 'C:\\\\Users\\\\USER\\\\Documents\\\\task\\\\data\\\\TimeSeries\\\\unconditional_generation\\\\'\n",
    "real_dir = os.path.join(data_dir, 'original')\n",
    "\n",
    "real_dfs = []\n",
    "\n",
    "for file in os.listdir(real_dir):\n",
    "    if file.endswith('.csv'):\n",
    "        df = pd.read_csv(os.path.join(real_dir, file))\n",
    "        # Add 'id' column with the filename without '.csv' extension\n",
    "        df['id'] = file.replace('.csv', '')  \n",
    "        real_dfs.append(df)\n",
    "\n",
    "real_id_df = pd.concat(real_dfs, ignore_index=True)"
   ]
  },
  {
   "cell_type": "code",
   "execution_count": 44,
   "id": "df23a1c6-a410-4545-b95f-497f8c760eb0",
   "metadata": {},
   "outputs": [
    {
     "data": {
      "text/html": [
       "<div>\n",
       "<style scoped>\n",
       "    .dataframe tbody tr th:only-of-type {\n",
       "        vertical-align: middle;\n",
       "    }\n",
       "\n",
       "    .dataframe tbody tr th {\n",
       "        vertical-align: top;\n",
       "    }\n",
       "\n",
       "    .dataframe thead th {\n",
       "        text-align: right;\n",
       "    }\n",
       "</style>\n",
       "<table border=\"1\" class=\"dataframe\">\n",
       "  <thead>\n",
       "    <tr style=\"text-align: right;\">\n",
       "      <th></th>\n",
       "      <th>Open</th>\n",
       "      <th>High</th>\n",
       "      <th>Low</th>\n",
       "      <th>Close</th>\n",
       "      <th>Volume</th>\n",
       "      <th>OpenInt</th>\n",
       "      <th>id</th>\n",
       "    </tr>\n",
       "  </thead>\n",
       "  <tbody>\n",
       "    <tr>\n",
       "      <th>0</th>\n",
       "      <td>173.62</td>\n",
       "      <td>175.92</td>\n",
       "      <td>171.69</td>\n",
       "      <td>175.30</td>\n",
       "      <td>15071</td>\n",
       "      <td>0</td>\n",
       "      <td>agii.us</td>\n",
       "    </tr>\n",
       "    <tr>\n",
       "      <th>1</th>\n",
       "      <td>175.37</td>\n",
       "      <td>177.04</td>\n",
       "      <td>173.27</td>\n",
       "      <td>177.04</td>\n",
       "      <td>4585</td>\n",
       "      <td>0</td>\n",
       "      <td>agii.us</td>\n",
       "    </tr>\n",
       "    <tr>\n",
       "      <th>2</th>\n",
       "      <td>177.04</td>\n",
       "      <td>179.99</td>\n",
       "      <td>174.65</td>\n",
       "      <td>179.28</td>\n",
       "      <td>11737</td>\n",
       "      <td>0</td>\n",
       "      <td>agii.us</td>\n",
       "    </tr>\n",
       "    <tr>\n",
       "      <th>3</th>\n",
       "      <td>180.19</td>\n",
       "      <td>180.19</td>\n",
       "      <td>176.62</td>\n",
       "      <td>177.95</td>\n",
       "      <td>5873</td>\n",
       "      <td>0</td>\n",
       "      <td>agii.us</td>\n",
       "    </tr>\n",
       "    <tr>\n",
       "      <th>4</th>\n",
       "      <td>177.69</td>\n",
       "      <td>179.75</td>\n",
       "      <td>175.51</td>\n",
       "      <td>179.61</td>\n",
       "      <td>5726</td>\n",
       "      <td>0</td>\n",
       "      <td>agii.us</td>\n",
       "    </tr>\n",
       "    <tr>\n",
       "      <th>5</th>\n",
       "      <td>179.75</td>\n",
       "      <td>179.75</td>\n",
       "      <td>177.34</td>\n",
       "      <td>178.72</td>\n",
       "      <td>6858</td>\n",
       "      <td>0</td>\n",
       "      <td>agii.us</td>\n",
       "    </tr>\n",
       "    <tr>\n",
       "      <th>6</th>\n",
       "      <td>178.37</td>\n",
       "      <td>181.45</td>\n",
       "      <td>178.01</td>\n",
       "      <td>181.03</td>\n",
       "      <td>4982</td>\n",
       "      <td>0</td>\n",
       "      <td>agii.us</td>\n",
       "    </tr>\n",
       "    <tr>\n",
       "      <th>7</th>\n",
       "      <td>181.45</td>\n",
       "      <td>181.45</td>\n",
       "      <td>179.42</td>\n",
       "      <td>180.06</td>\n",
       "      <td>13411</td>\n",
       "      <td>0</td>\n",
       "      <td>agii.us</td>\n",
       "    </tr>\n",
       "    <tr>\n",
       "      <th>8</th>\n",
       "      <td>179.42</td>\n",
       "      <td>179.42</td>\n",
       "      <td>174.83</td>\n",
       "      <td>175.78</td>\n",
       "      <td>8077</td>\n",
       "      <td>0</td>\n",
       "      <td>agii.us</td>\n",
       "    </tr>\n",
       "    <tr>\n",
       "      <th>9</th>\n",
       "      <td>175.64</td>\n",
       "      <td>177.61</td>\n",
       "      <td>175.30</td>\n",
       "      <td>177.34</td>\n",
       "      <td>7390</td>\n",
       "      <td>0</td>\n",
       "      <td>agii.us</td>\n",
       "    </tr>\n",
       "  </tbody>\n",
       "</table>\n",
       "</div>"
      ],
      "text/plain": [
       "    Open   High    Low  Close  Volume  OpenInt       id\n",
       "0 173.62 175.92 171.69 175.30   15071        0  agii.us\n",
       "1 175.37 177.04 173.27 177.04    4585        0  agii.us\n",
       "2 177.04 179.99 174.65 179.28   11737        0  agii.us\n",
       "3 180.19 180.19 176.62 177.95    5873        0  agii.us\n",
       "4 177.69 179.75 175.51 179.61    5726        0  agii.us\n",
       "5 179.75 179.75 177.34 178.72    6858        0  agii.us\n",
       "6 178.37 181.45 178.01 181.03    4982        0  agii.us\n",
       "7 181.45 181.45 179.42 180.06   13411        0  agii.us\n",
       "8 179.42 179.42 174.83 175.78    8077        0  agii.us\n",
       "9 175.64 177.61 175.30 177.34    7390        0  agii.us"
      ]
     },
     "execution_count": 44,
     "metadata": {},
     "output_type": "execute_result"
    }
   ],
   "source": [
    "real_id_df.head(10)"
   ]
  },
  {
   "cell_type": "code",
   "execution_count": 45,
   "id": "e50ed23f-d5f1-4126-a37e-d26073a855af",
   "metadata": {},
   "outputs": [
    {
     "data": {
      "text/plain": [
       "100"
      ]
     },
     "execution_count": 45,
     "metadata": {},
     "output_type": "execute_result"
    }
   ],
   "source": [
    "real_id_df['id'].nunique()"
   ]
  },
  {
   "cell_type": "code",
   "execution_count": 46,
   "id": "5fc26976-768b-4767-80ec-432bd10a2693",
   "metadata": {},
   "outputs": [],
   "source": [
    "# synthetic data with id\n",
    "data_dir = 'C:\\\\Users\\\\USER\\\\Documents\\\\task\\\\data\\\\TimeSeries\\\\unconditional_generation\\\\'\n",
    "synth_dir = os.path.join(data_dir, 'tsv2', 'ts')\n",
    "\n",
    "files = sorted(\n",
    "    [f for f in os.listdir(synth_dir) if f.endswith('.csv')],\n",
    "    key=lambda x: int(os.path.splitext(x)[0])  # extract numeric prefix\n",
    ")\n",
    "\n",
    "synth_dfs = []\n",
    "\n",
    "for file in files:\n",
    "    df = pd.read_csv(os.path.join(synth_dir, file))\n",
    "    df['id'] = os.path.splitext(file)[0]  # Add 'id' as filename without extension (e.g., '0', '1', '99')\n",
    "    synth_dfs.append(df)\n",
    "\n",
    "synth_id_df = pd.concat(synth_dfs, ignore_index=True)\n"
   ]
  },
  {
   "cell_type": "code",
   "execution_count": 47,
   "id": "aa57efb2-ef34-4330-8c4c-df52b072348e",
   "metadata": {},
   "outputs": [
    {
     "data": {
      "text/html": [
       "<div>\n",
       "<style scoped>\n",
       "    .dataframe tbody tr th:only-of-type {\n",
       "        vertical-align: middle;\n",
       "    }\n",
       "\n",
       "    .dataframe tbody tr th {\n",
       "        vertical-align: top;\n",
       "    }\n",
       "\n",
       "    .dataframe thead th {\n",
       "        text-align: right;\n",
       "    }\n",
       "</style>\n",
       "<table border=\"1\" class=\"dataframe\">\n",
       "  <thead>\n",
       "    <tr style=\"text-align: right;\">\n",
       "      <th></th>\n",
       "      <th>Open</th>\n",
       "      <th>High</th>\n",
       "      <th>Low</th>\n",
       "      <th>Close</th>\n",
       "      <th>Volume</th>\n",
       "      <th>OpenInt</th>\n",
       "      <th>id</th>\n",
       "    </tr>\n",
       "  </thead>\n",
       "  <tbody>\n",
       "    <tr>\n",
       "      <th>0</th>\n",
       "      <td>29.00</td>\n",
       "      <td>29.85</td>\n",
       "      <td>28.92</td>\n",
       "      <td>28.51</td>\n",
       "      <td>291075.35</td>\n",
       "      <td>0</td>\n",
       "      <td>0</td>\n",
       "    </tr>\n",
       "    <tr>\n",
       "      <th>1</th>\n",
       "      <td>28.73</td>\n",
       "      <td>29.96</td>\n",
       "      <td>29.37</td>\n",
       "      <td>28.53</td>\n",
       "      <td>284862.34</td>\n",
       "      <td>0</td>\n",
       "      <td>0</td>\n",
       "    </tr>\n",
       "    <tr>\n",
       "      <th>2</th>\n",
       "      <td>27.61</td>\n",
       "      <td>28.61</td>\n",
       "      <td>28.12</td>\n",
       "      <td>28.13</td>\n",
       "      <td>169222.28</td>\n",
       "      <td>0</td>\n",
       "      <td>0</td>\n",
       "    </tr>\n",
       "    <tr>\n",
       "      <th>3</th>\n",
       "      <td>28.23</td>\n",
       "      <td>28.66</td>\n",
       "      <td>28.67</td>\n",
       "      <td>28.61</td>\n",
       "      <td>282711.69</td>\n",
       "      <td>0</td>\n",
       "      <td>0</td>\n",
       "    </tr>\n",
       "    <tr>\n",
       "      <th>4</th>\n",
       "      <td>28.62</td>\n",
       "      <td>24.86</td>\n",
       "      <td>25.93</td>\n",
       "      <td>25.85</td>\n",
       "      <td>264100.09</td>\n",
       "      <td>0</td>\n",
       "      <td>0</td>\n",
       "    </tr>\n",
       "    <tr>\n",
       "      <th>5</th>\n",
       "      <td>27.28</td>\n",
       "      <td>28.31</td>\n",
       "      <td>27.97</td>\n",
       "      <td>29.55</td>\n",
       "      <td>301230.12</td>\n",
       "      <td>0</td>\n",
       "      <td>0</td>\n",
       "    </tr>\n",
       "    <tr>\n",
       "      <th>6</th>\n",
       "      <td>28.28</td>\n",
       "      <td>29.09</td>\n",
       "      <td>29.37</td>\n",
       "      <td>28.57</td>\n",
       "      <td>179264.18</td>\n",
       "      <td>0</td>\n",
       "      <td>0</td>\n",
       "    </tr>\n",
       "    <tr>\n",
       "      <th>7</th>\n",
       "      <td>27.74</td>\n",
       "      <td>28.60</td>\n",
       "      <td>27.91</td>\n",
       "      <td>28.95</td>\n",
       "      <td>273397.50</td>\n",
       "      <td>0</td>\n",
       "      <td>0</td>\n",
       "    </tr>\n",
       "    <tr>\n",
       "      <th>8</th>\n",
       "      <td>28.51</td>\n",
       "      <td>29.21</td>\n",
       "      <td>29.49</td>\n",
       "      <td>28.55</td>\n",
       "      <td>279687.71</td>\n",
       "      <td>0</td>\n",
       "      <td>0</td>\n",
       "    </tr>\n",
       "    <tr>\n",
       "      <th>9</th>\n",
       "      <td>27.23</td>\n",
       "      <td>27.93</td>\n",
       "      <td>28.37</td>\n",
       "      <td>29.07</td>\n",
       "      <td>296752.84</td>\n",
       "      <td>0</td>\n",
       "      <td>0</td>\n",
       "    </tr>\n",
       "  </tbody>\n",
       "</table>\n",
       "</div>"
      ],
      "text/plain": [
       "   Open  High   Low  Close    Volume  OpenInt id\n",
       "0 29.00 29.85 28.92  28.51 291075.35        0  0\n",
       "1 28.73 29.96 29.37  28.53 284862.34        0  0\n",
       "2 27.61 28.61 28.12  28.13 169222.28        0  0\n",
       "3 28.23 28.66 28.67  28.61 282711.69        0  0\n",
       "4 28.62 24.86 25.93  25.85 264100.09        0  0\n",
       "5 27.28 28.31 27.97  29.55 301230.12        0  0\n",
       "6 28.28 29.09 29.37  28.57 179264.18        0  0\n",
       "7 27.74 28.60 27.91  28.95 273397.50        0  0\n",
       "8 28.51 29.21 29.49  28.55 279687.71        0  0\n",
       "9 27.23 27.93 28.37  29.07 296752.84        0  0"
      ]
     },
     "execution_count": 47,
     "metadata": {},
     "output_type": "execute_result"
    }
   ],
   "source": [
    "synth_id_df.head(10)"
   ]
  },
  {
   "cell_type": "code",
   "execution_count": 48,
   "id": "b9e4f7ab-7534-4733-bc9f-78b2b224c02c",
   "metadata": {},
   "outputs": [
    {
     "data": {
      "text/plain": [
       "100"
      ]
     },
     "execution_count": 48,
     "metadata": {},
     "output_type": "execute_result"
    }
   ],
   "source": [
    "synth_id_df['id'].nunique()"
   ]
  },
  {
   "cell_type": "markdown",
   "id": "150a6e12-70d2-459d-9bf4-4fb74a12145f",
   "metadata": {},
   "source": [
    "##### Information coefficient (IC)\n",
    "Use Pearson correlation of log returns between real and synthetic time-series.\n",
    "<br> Assume price as the closing price"
   ]
  },
  {
   "cell_type": "code",
   "execution_count": 49,
   "id": "be528665-c202-4cdf-a0aa-99600b711e01",
   "metadata": {},
   "outputs": [],
   "source": [
    "# Compute log returns\n",
    "real_id_df['log_return'] = real_id_df.groupby('id')['Close'].apply(lambda x: np.log(x).diff())\n",
    "synth_id_df['log_return'] = synth_id_df.groupby('id')['Close'].apply(lambda x: np.log(x).diff())\n",
    "\n",
    "# sort by time\n",
    "real_returns = real_id_df.pivot(index='time', columns='id', values='log_return')\n",
    "synth_returns = synth_id_df.pivot(index='time', columns='id', values='log_return')\n",
    "\n",
    "# error, need to intersect time?\n",
    "# some form of matching with group/time?\n",
    "common_times = real_returns.index.intersection(synth_returns.index)\n",
    "real_returns = real_returns.loc[common_times]\n",
    "synth_returns = synth_returns.loc[common_times]\n",
    "\n",
    "# Pearson correlation for each time step\n",
    "IC_per_time = real_returns.corrwith(synth_returns, axis=1)\n",
    "mean_IC = IC_per_time.mean()\n",
    "print(f\"Mean IC: {mean_IC:.4f}\")\n"
   ]
  },
  {
   "cell_type": "markdown",
   "id": "506197f7-c136-4456-bb45-e1713e44c71c",
   "metadata": {},
   "source": [
    "NOTE:\n",
    "- no datetime info\n",
    "- assume in order of index\n",
    "- otherwise can utility metrics for stock-related performance can be: \n",
    "- Information coefficient (IC) -  no, does not work\n",
    "- Sharpe ratio (SR), \n",
    "- Conditional value at risk (CVAR), and \n",
    "- Herfindahl-Hirshman index (HH-index)"
   ]
  },
  {
   "cell_type": "markdown",
   "id": "7e12b6bf-a314-4f1d-9388-fc8b52698c43",
   "metadata": {},
   "source": [
    "### Summary"
   ]
  },
  {
   "cell_type": "code",
   "execution_count": 50,
   "id": "92679dd1-cf21-4823-b660-41b74ba25b68",
   "metadata": {},
   "outputs": [],
   "source": [
    "metrics = {\n",
    "    'C-FID': cfid_score,\n",
    "    'SD': sd_score,\n",
    "    'KD': kd_score,\n",
    "    'DTW': dtw_score,\n",
    "    'MDD': mdd_score,\n",
    "    'ACD': acd_score,\n",
    "    'NNDR (5th pct)': nndr_results[\"p5_nndr\"],\n",
    "    'DCR':  dcr_results[\"p5_dcr\"],\n",
    "    'MIA': mia_result[\"roc_auc\"],\n",
    "    'MMD': mmd_score,\n",
    "}\n"
   ]
  },
  {
   "cell_type": "code",
   "execution_count": 51,
   "id": "021c8d5f-1a87-4592-902f-cec0efcc3cd5",
   "metadata": {},
   "outputs": [
    {
     "name": "stderr",
     "output_type": "stream",
     "text": [
      "posx and posy should be finite values\n",
      "posx and posy should be finite values\n"
     ]
    },
    {
     "data": {
      "image/png": "[encoded data removed]",
      "text/plain": [
       "<Figure size 1000x500 with 1 Axes>"
      ]
     },
     "metadata": {},
     "output_type": "display_data"
    },
    {
     "data": {
      "image/png": "[encoded data removed]",
      "text/plain": [
       "<Figure size 800x600 with 2 Axes>"
      ]
     },
     "metadata": {},
     "output_type": "display_data"
    }
   ],
   "source": [
    "# Define fidelity metrics only \n",
    "utility_keys = ['C-FID', 'MDD', 'SD', 'KD', 'DTW', 'ACD']\n",
    "utility_scores = {k: metrics[k] for k in utility_keys}\n",
    "\n",
    "def plot_fidelity_metrics(metrics_dict):\n",
    "    names = list(metrics_dict.keys())\n",
    "    values = list(metrics_dict.values())\n",
    "\n",
    "    plt.figure(figsize=(10, 5))\n",
    "    bars = plt.barh(names, values, color='skyblue')\n",
    "    plt.xlabel(\"Score (lower = better)\")\n",
    "    plt.title(\"Fidelity Metrics: Similarity to Real Data\")\n",
    "\n",
    "    for bar in bars:\n",
    "        width = bar.get_width()\n",
    "        plt.text(width + 0.01 * max(values), bar.get_y() + bar.get_height()/2, f'{width:.4f}', va='center')\n",
    "\n",
    "    # plt.gca().invert_yaxis()  \n",
    "    plt.tight_layout()\n",
    "    plt.show()\n",
    "\n",
    "plot_fidelity_metrics(utility_scores)\n",
    "\n",
    "# Define privacy metrics only \n",
    "nndr = metrics['NNDR (5th pct)']\n",
    "dcr = metrics['DCR']\n",
    "mia_raw = metrics['MIA']\n",
    "mia_privacy_score = 1 - 2 * abs(mia_raw - 0.5)\n",
    "\n",
    "fig, axs = plt.subplots(2, 1, figsize=(8, 6), sharex=False)\n",
    "\n",
    "# NNDR and DCR \n",
    "axs[0].barh(['NNDR (5th pct)', 'DCR'], [nndr, dcr], color='salmon')\n",
    "axs[0].set_title('Privacy Metrics: NNDR & DCR', fontsize=11)\n",
    "axs[0].set_xlabel('Privacy Score (Higher = Better)')\n",
    "for i, v in enumerate([nndr, dcr]):\n",
    "    axs[0].text(v + 0.01, i, f\"{v:.3f}\", va='center')\n",
    "\n",
    "#  MIA (converted)\n",
    "axs[1].barh(['MIA (converted)'], [mia_privacy_score], color='lightblue')\n",
    "axs[1].set_title('Privacy Score: MIA', fontsize=11)\n",
    "axs[1].set_xlabel('Privacy Score (1 = Best, 0 = Worst)')\n",
    "axs[1].text(mia_privacy_score + 0.01, 0, f\"{mia_privacy_score:.3f}\", va='center')\n",
    "\n",
    "plt.tight_layout()\n",
    "plt.show()\n"
   ]
  },
  {
   "cell_type": "code",
   "execution_count": 52,
   "id": "e79a1a0b-cfe4-44f3-9f3c-3260631d0b2c",
   "metadata": {},
   "outputs": [
    {
     "data": {
      "image/png": "[encoded data removed]",
      "text/plain": [
       "<Figure size 1000x600 with 1 Axes>"
      ]
     },
     "metadata": {},
     "output_type": "display_data"
    }
   ],
   "source": [
    "def compute_cumulative_returns(df, price_col='Close', id_col='id'):\n",
    "    # demonstrate similar overall growth behaviour to real stock data\n",
    "    # volatility patterns (mean+std) over time.\n",
    "    \n",
    "    df = df.copy()\n",
    "    # assume time is in order of index\n",
    "    df['__time'] = df.index  # temp column for ordering, issues with index\n",
    "    df = df.sort_values(by=[id_col, '__time'])\n",
    "\n",
    "    df['return'] = df.groupby(id_col)[price_col].pct_change().fillna(0)\n",
    "    df['cumulative_return'] = (1 + df['return']).groupby(df[id_col]).cumprod()\n",
    "\n",
    "    return df.drop(columns='__time')\n",
    "\n",
    "# cumulative returns \n",
    "real_id_df = compute_cumulative_returns(real_id_df, price_col='Close', id_col='id')\n",
    "synth_id_df = compute_cumulative_returns(synth_id_df, price_col='Close', id_col='id')\n",
    "\n",
    "# assume 'time' as the row number within each id ?\n",
    "real_id_df['time'] = real_id_df.groupby('id').cumcount()\n",
    "synth_id_df['time'] = synth_id_df.groupby('id').cumcount()\n",
    "\n",
    "# Aggregate mean and std \n",
    "real_summary = real_id_df.groupby('time')['cumulative_return'].agg(['mean', 'std']).reset_index()\n",
    "synth_summary = synth_id_df.groupby('time')['cumulative_return'].agg(['mean', 'std']).reset_index()\n",
    "\n",
    "plt.figure(figsize=(10,6))\n",
    "plt.plot(real_summary['time'], real_summary['mean'], label='Real Data Mean')\n",
    "plt.fill_between(real_summary['time'], \n",
    "                 real_summary['mean'] - real_summary['std'], \n",
    "                 real_summary['mean'] + real_summary['std'], alpha=0.3)\n",
    "\n",
    "plt.plot(synth_summary['time'], synth_summary['mean'], label='Synthetic Data Mean')\n",
    "plt.fill_between(synth_summary['time'], \n",
    "                 synth_summary['mean'] - synth_summary['std'], \n",
    "                 synth_summary['mean'] + synth_summary['std'], alpha=0.3)\n",
    "\n",
    "plt.xlabel('Time (index order)')\n",
    "plt.ylabel('Cumulative Return')\n",
    "plt.title('Average Cumulative Returns (Index as Time)')\n",
    "plt.legend()\n",
    "plt.show()\n"
   ]
  },
  {
   "cell_type": "code",
   "execution_count": null,
   "id": "1692e936-def9-43e4-a679-fa77512a50c8",
   "metadata": {},
   "outputs": [],
   "source": []
  }
 ],
 "metadata": {
  "kernelspec": {
   "display_name": "Python 3 (ipykernel)",
   "language": "python",
   "name": "python3"
  },
  "language_info": {
   "codemirror_mode": {
    "name": "ipython",
    "version": 3
   },
   "file_extension": ".py",
   "mimetype": "text/x-python",
   "name": "python",
   "nbconvert_exporter": "python",
   "pygments_lexer": "ipython3",
   "version": "3.8.8"
  }
 },
 "nbformat": 4,
 "nbformat_minor": 5
}
